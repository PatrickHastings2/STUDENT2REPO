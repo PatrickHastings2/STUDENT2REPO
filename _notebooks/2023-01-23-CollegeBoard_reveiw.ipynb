{
 "cells": [
  {
   "cell_type": "markdown",
   "metadata": {},
   "source": [
    "## College Board Corrections "
   ]
  },
  {
   "cell_type": "markdown",
   "metadata": {},
   "source": [
    "\n",
    "# Problem 23\n",
    "\n",
    "A flowchart is a way to visually represent an algorithm. The flowchart below is used by an application to set the Boolean variable available to true under certain conditions. The flowchart uses the Boolean variable weekday and the integer variable miles.\n",
    "\n",
    "| Block      | Explanation                                                                                               |\n",
    "|------------|-----------------------------------------------------------------------------------------------------------|\n",
    "| Oval       | The start or end of the algorithm                                                                         |\n",
    "| Diamond    | A conditional or decision step, where execution proceeds to the side labeled true if the condition is true and to the side labeled false otherwise |\n",
    "| Rectangle  | One or more processing steps, such as a statement that assigns a value to a variable                       |\n"
   ]
  },
  {
   "cell_type": "markdown",
   "metadata": {},
   "source": [
    "My Answer: B\n",
    "Correct Asnwer: D\n",
    "\n",
    "Exp:  This expression would be equivalent to an algorithm that sets available to true whenever weekday is true and miles is at least 20. The algorithm in the flowchart requires both conditions to be true in order to set available to true."
   ]
  },
  {
   "cell_type": "markdown",
   "metadata": {},
   "source": [
    "# Problem 32"
   ]
  },
  {
   "cell_type": "markdown",
   "metadata": {},
   "source": [
    "Correct answer: A\n",
    "My Answer: B\n",
    "\n",
    "Explaination: This code segment takes the average of the scores and then subtracts the minimum score, rather than averaging all but the lowest score."
   ]
  },
  {
   "cell_type": "markdown",
   "metadata": {},
   "source": [
    "# Problem 47"
   ]
  },
  {
   "cell_type": "markdown",
   "metadata": {},
   "source": [
    "Correct Answer: C\n",
    "My Answer: A"
   ]
  },
  {
   "cell_type": "markdown",
   "metadata": {},
   "source": [
    "# Problem 52"
   ]
  },
  {
   "cell_type": "markdown",
   "metadata": {},
   "source": [
    "Correct Answer:A\n",
    "My Answer: D \n",
    "\n",
    "Incorrect. Statement II is false. The simulation displays the change in population over the entire course of the simulation."
   ]
  },
  {
   "cell_type": "markdown",
   "metadata": {},
   "source": [
    "# 59"
   ]
  },
  {
   "cell_type": "markdown",
   "metadata": {},
   "source": [
    "Correct Answer: C\n",
    "My Answer: D\n",
    "\n",
    "Open-source software can be continually updated without the original developers once it becomes available to the public."
   ]
  },
  {
   "cell_type": "markdown",
   "metadata": {},
   "source": [
    "# 64"
   ]
  },
  {
   "cell_type": "markdown",
   "metadata": {},
   "source": [
    "Correct Answer: B and D\n",
    "My Answer: B and C\n",
    "\n",
    "Incorrect. For these values, the procedure repeatedly adds -2 to result five times, resulting in the intended product -10."
   ]
  },
  {
   "cell_type": "markdown",
   "metadata": {},
   "source": [
    "# 67"
   ]
  },
  {
   "cell_type": "markdown",
   "metadata": {},
   "source": [
    "Correct Answer: A and B\n",
    "My Answer: A and D\n",
    "\n",
    "Incorrect. For this code segment, count is initialized to 0. Since \"spruce\" does not appear in the list, the procedure returns the intended result 0.\n",
    "\n"
   ]
  }
 ],
 "metadata": {
  "kernelspec": {
   "display_name": "Python 3",
   "language": "python",
   "name": "python3"
  },
  "language_info": {
   "codemirror_mode": {
    "name": "ipython",
    "version": 3
   },
   "file_extension": ".py",
   "mimetype": "text/x-python",
   "name": "python",
   "nbconvert_exporter": "python",
   "pygments_lexer": "ipython3",
   "version": "3.11.7"
  },
  "orig_nbformat": 4
 },
 "nbformat": 4,
 "nbformat_minor": 2
}
