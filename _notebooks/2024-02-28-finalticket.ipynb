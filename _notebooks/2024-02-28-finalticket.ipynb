{
 "cells": [
  {
   "cell_type": "markdown",
   "metadata": {},
   "source": [
    "---\n",
    "toc: true \n",
    "comments: false \n",
    "layout: post \n",
    "title: Final Review ticket\n",
    "type: hacks\n",
    "courses: { compsci: {week: 20} }\n",
    "---"
   ]
  },
  {
   "cell_type": "markdown",
   "metadata": {},
   "source": [
    "## Project overview\n",
    "\n",
    "Our project is a service that helps with highschool students navigate the college admisson process. We offered several services such as a customized quiz to find schools tailored to your prefrences, a system to orgranize the schools your are interested, and a home page that keeps your up to date on need to know deadlines.   \n"
   ]
  },
  {
   "cell_type": "markdown",
   "metadata": {},
   "source": [
    "\n",
    "## My contributions\n",
    "\n",
    "Frontend\n",
    "- I made created the \"my list\" feature where users can take thec shools they searched for and sort them into catagories. \n",
    "-Created the styling and formmating for this page aswell\n",
    "- Worked on quiz by adding many more \"if then\" statements to add more accurate and more variety in the answers. "
   ]
  },
  {
   "cell_type": "markdown",
   "metadata": {},
   "source": [
    "## List Feature\n",
    "\n",
    "<img src=\"http://127.0.0.1:4200/STUDENT2REPO/images/Firstimage.png\" >"
   ]
  },
  {
   "cell_type": "markdown",
   "metadata": {},
   "source": [
    "\n",
    "This code is essentially a JavaScript application for managing a list of schools. It allows users to select schools from one list and move them to different categories or remove them entirely. The core functionality includes three main actions:\n",
    "\n",
    "Selecting Schools: Users can click on schools from a list to select them. When a school is selected, it visually highlights to indicate its selection status.\n",
    "\n",
    "Moving Schools: Once one or more schools are selected, users can move them to different categories by clicking on corresponding buttons. For instance, if a user clicks on a \"Move to Favorites\" button, the selected schools will be moved to a favorites list.\n",
    "\n",
    "Removing Schools: Users can also remove individual schools from the list by clicking on them directly. This action removes the school both visually and from the underlying data structure."
   ]
  },
  {
   "cell_type": "markdown",
   "metadata": {},
   "source": [
    "## Additions to Match Feature\n",
    "\n",
    "\n",
    "<img src=\"http://127.0.0.1:4200/STUDENT2REPO/images/Secondimage.png\" >"
   ]
  },
  {
   "cell_type": "markdown",
   "metadata": {},
   "source": [
    "This piece of JavaScript is a crucial part of an application that helps people find colleges that match their preferences. Each 'if' statement looks at what the user has told the system and suggests colleges that fit those preferences. It's like having a conversation with a friend about what kind of college you're looking for, and then they give you suggestions based on what you've said."
   ]
  }
 ],
 "metadata": {
  "language_info": {
   "name": "python"
  },
  "orig_nbformat": 4
 },
 "nbformat": 4,
 "nbformat_minor": 2
}
